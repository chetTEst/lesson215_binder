{
  "cells": [
    {
      "cell_type": "markdown",
      "metadata": {
        "id": "view-in-github",
        "colab_type": "text"
      },
      "source": [
        "<a href=\"https://colab.research.google.com/github/chetTEst/lesson215_binder/blob/main/lesson2_1_5.ipynb\" target=\"_parent\"><img src=\"https://colab.research.google.com/assets/colab-badge.svg\" alt=\"Open In Colab\"/></a>"
      ]
    },
    {
      "cell_type": "code",
      "source": [
        "!pip install gdown"
      ],
      "metadata": {
        "id": "epJKl5InvEZY"
      },
      "id": "epJKl5InvEZY",
      "execution_count": null,
      "outputs": []
    },
    {
      "cell_type": "code",
      "source": [
        "import gdown\n",
        "\n",
        "# ID каталога Гугл для загрузки необходимых файлов\n",
        "folder_id = '1ovxJwXjONK93Yz7mpiO-MomXB38NhS-8'\n",
        "\n",
        "url_utilities = 'https://drive.google.com/file/d/1dD5LKR6R1x0UvRawzWQfWtTp3wGTZfe9/view?usp=drive_link'\n",
        "output_utilities = 'utilities.py'\n",
        "\n",
        "url_binary_list = 'https://drive.google.com/file/d/18TE6ZDQQgU2AKXrjSOApgZE5yCOWpr4B/view?usp=drive_link'\n",
        "output_binary_list = 'binary_list.py'\n",
        "\n",
        "gdown.download(url_utilities, output_utilities, quiet=False) # Скачать необходимый файл Утилит\n",
        "gdown.download(url_binary_list, binary_list, quiet=False) # Скачть файл библиотеки для работы со списком бинарных сигнатур файлов\n",
        "\n",
        "# Скачать каталог с файлами для анализа\n",
        "gdown.download_folder(id=folder_id, quiet=False)"
      ],
      "metadata": {
        "id": "FI0vIb9XvW3n"
      },
      "id": "FI0vIb9XvW3n",
      "execution_count": null,
      "outputs": []
    },
    {
      "cell_type": "markdown",
      "id": "4f716da2-21f7-40da-ae59-4f0aba0d946f",
      "metadata": {
        "id": "4f716da2-21f7-40da-ae59-4f0aba0d946f"
      },
      "source": [
        "## Пример 1: Антивирусное программное обеспечение"
      ]
    },
    {
      "cell_type": "markdown",
      "id": "f6b8a7bd-79b6-43f6-aa5e-80340a9da995",
      "metadata": {
        "id": "f6b8a7bd-79b6-43f6-aa5e-80340a9da995"
      },
      "source": [
        "Пример адаптивной антивирусной системы на **Python** предполагает моделирование процесса использования _машинного обучения_ для обнаружения потенциально ___вредоносных файлов___ на основе моделей поведения, а не только на основе известных *вирусных сигнатур*. Этот пример будет представлять собой базовую демонстрацию с использованием _синтетических данных_."
      ]
    },
    {
      "cell_type": "markdown",
      "id": "9bbc5202-7924-48c9-9030-cc19cadd3be8",
      "metadata": {
        "id": "9bbc5202-7924-48c9-9030-cc19cadd3be8"
      },
      "source": [
        "### Шаг 1: Импорт библиотек и создание необходимых инструментов"
      ]
    },
    {
      "cell_type": "code",
      "execution_count": null,
      "id": "f895a654-ce75-4dc6-b935-d86c0c24a0b8",
      "metadata": {
        "id": "f895a654-ce75-4dc6-b935-d86c0c24a0b8"
      },
      "outputs": [],
      "source": [
        "import numpy as np # Библиотека для работы с данными\n",
        "import pandas as pd # Библиотека для работы с данными\n",
        "from sklearn.linear_model import LogisticRegression # Модель обучения: логистическая регрессия\n",
        "from sklearn.model_selection import train_test_split # разделитель данных для обучения модели\n",
        "from sklearn.metrics import accuracy_score # подсчет эффективности модели\n",
        "import os # библиотека для работы с операционной системой\n",
        "import plotly.express as px # Инструмент для работы с интерактивными графиками\n",
        "from binary_list import BinaryList # библиотека для работы со списком бинарных сигнатур файлов\n",
        "from utilities import read_file # Функция read_file считает содержимое файла по указанному ей пути\n",
        "from utilities import count_bits_in_file # Функция подсчета бит = 1 и бит = 1 идущих подряд с конца файла\n",
        "from utilities import data_for_analysis # Фнкция преобразования данных в формат для анализа\n",
        "from utilities import MakeScatter # инструмент создания интерактивного графика\n"
      ]
    },
    {
      "cell_type": "markdown",
      "id": "2bb9ba57-cdf7-459f-b4e1-eaab59bb6498",
      "metadata": {
        "id": "2bb9ba57-cdf7-459f-b4e1-eaab59bb6498"
      },
      "source": [
        "Для начала посмотрим на список файлов и директорий с которыми нам предстоит работать"
      ]
    },
    {
      "cell_type": "code",
      "execution_count": null,
      "id": "8e257add-d240-47f4-bf08-13b87fc5b61b",
      "metadata": {
        "id": "8e257add-d240-47f4-bf08-13b87fc5b61b"
      },
      "outputs": [],
      "source": [
        "import subprocess\n",
        "# Выполнение команды tree и захват вывода\n",
        "result = subprocess.run(['tree', '/f', '/a', 'AdaptiveAntivirus'], stdout=subprocess.PIPE, text=True, shell=True)\n",
        "# Печать результатов\n",
        "print(result.stdout)"
      ]
    },
    {
      "cell_type": "markdown",
      "id": "95a6f4a4-2161-4c66-b419-5ffa021758b0",
      "metadata": {
        "id": "95a6f4a4-2161-4c66-b419-5ffa021758b0"
      },
      "source": [
        "#### Добавление функций и путей к файлам"
      ]
    },
    {
      "cell_type": "code",
      "execution_count": null,
      "id": "29c87de0-720f-40d9-9c72-d2d1cfa3b5e8",
      "metadata": {
        "id": "29c87de0-720f-40d9-9c72-d2d1cfa3b5e8"
      },
      "outputs": [],
      "source": [
        "normal_files_dir = os.path.join(\"AdaptiveAntivirus\", \"normal_files\") # путь к обычным файлам сохраним в переменную normal_files_dir\n",
        "virus_files_dir = os.path.join(\"AdaptiveAntivirus\", \"viruses\") # путь к файлам в которых точно известно что есть вирус сохраним\n",
        "# в переменную virus_files_dir\n",
        "suspect_files_dir = os.path.join(\"AdaptiveAntivirus\", \"suspects\") # путь к файлам в которых подозревается наличие вируса"
      ]
    },
    {
      "cell_type": "code",
      "execution_count": null,
      "id": "66a3e74c-cdd9-4769-b740-bb82cb5ba339",
      "metadata": {
        "colab": {
          "base_uri": "https://localhost:8080/",
          "height": 36
        },
        "id": "66a3e74c-cdd9-4769-b740-bb82cb5ba339",
        "outputId": "4b098d07-bb52-4dc0-d8bb-6f31e9ea7f09"
      },
      "outputs": [
        {
          "output_type": "execute_result",
          "data": {
            "text/plain": [
              "'AdaptiveAntivirus/normal_files'"
            ],
            "application/vnd.google.colaboratory.intrinsic+json": {
              "type": "string"
            }
          },
          "metadata": {},
          "execution_count": 4
        }
      ],
      "source": [
        "normal_files_dir # посмотрим путь к директории с обычными файлами"
      ]
    },
    {
      "cell_type": "code",
      "execution_count": null,
      "id": "85483129-12b1-4ce3-9932-0c22eac11ac5",
      "metadata": {
        "colab": {
          "base_uri": "https://localhost:8080/",
          "height": 36
        },
        "id": "85483129-12b1-4ce3-9932-0c22eac11ac5",
        "outputId": "fc28563a-6ff4-45e3-885b-29b34826e194"
      },
      "outputs": [
        {
          "output_type": "execute_result",
          "data": {
            "text/plain": [
              "'AdaptiveAntivirus/viruses'"
            ],
            "application/vnd.google.colaboratory.intrinsic+json": {
              "type": "string"
            }
          },
          "metadata": {},
          "execution_count": 5
        }
      ],
      "source": [
        "virus_files_dir # посмотрим путь к директории с точно вирусными файлами"
      ]
    },
    {
      "cell_type": "code",
      "execution_count": null,
      "id": "c00ab8ba-db6a-4ee7-a995-c20c8810b7e9",
      "metadata": {
        "colab": {
          "base_uri": "https://localhost:8080/"
        },
        "id": "c00ab8ba-db6a-4ee7-a995-c20c8810b7e9",
        "outputId": "74adc633-6be5-4d68-ad6d-98ec9914d11e"
      },
      "outputs": [
        {
          "output_type": "execute_result",
          "data": {
            "text/plain": [
              "['ebfkh.log',\n",
              " 'zszcy.bin',\n",
              " 'dogdl.bak',\n",
              " 'eygmd.bin',\n",
              " 'pddwt.bak',\n",
              " 'uzsjc.bin',\n",
              " 'srqlp.dat',\n",
              " 'swglv.log',\n",
              " 'vouqm.dat',\n",
              " 'bthqw.bin',\n",
              " 'hvzyz.dat',\n",
              " 'qtpgq.txt',\n",
              " 'uihcw.bin',\n",
              " 'clkeg.bin',\n",
              " 'vdwyz.txt',\n",
              " 'yqgei.dat',\n",
              " 'pedvt.dat',\n",
              " 'hytkw.bak',\n",
              " 'wtoue.dat',\n",
              " 'qfdms.dat']"
            ]
          },
          "metadata": {},
          "execution_count": 6
        }
      ],
      "source": [
        "os.listdir(normal_files_dir) # покажет список всех файлов в директории с обычными файлами normal_files_dir"
      ]
    },
    {
      "cell_type": "markdown",
      "id": "14969aae-5636-4992-bf1b-2dac0f41d8e8",
      "metadata": {
        "id": "14969aae-5636-4992-bf1b-2dac0f41d8e8"
      },
      "source": [
        "### Шаг 2: Создаем списки сигнатур нормальных файлов, вирусных файлов и подозрительных файлов\n",
        "#### Создаём список сигнатур нормальных файлов"
      ]
    },
    {
      "cell_type": "code",
      "execution_count": null,
      "id": "2f316338-134a-494d-8751-dd66f9ec1ea6",
      "metadata": {
        "id": "2f316338-134a-494d-8751-dd66f9ec1ea6"
      },
      "outputs": [],
      "source": [
        "normal_files = [os.path.join(normal_files_dir, f) for f in os.listdir(normal_files_dir)] # сохраняем список относительных путей\n",
        "# файлов os.listdir(normal_files_dir) в переменную normal_files\n",
        "normal_data = BinaryList([read_file(f) for f in normal_files]) # сохраняем в переменную normal_data содержимое каждого файла\n",
        "# директории normal_files_dir"
      ]
    },
    {
      "cell_type": "code",
      "execution_count": null,
      "id": "9b47359e-e1de-44b6-99d1-b010ffee60b8",
      "metadata": {
        "id": "9b47359e-e1de-44b6-99d1-b010ffee60b8"
      },
      "outputs": [],
      "source": [
        "normal_data # посмотрим бинарные сигнатуры первых 5 файлов директории normal_files_dir"
      ]
    },
    {
      "cell_type": "markdown",
      "id": "903205e8-e367-421c-b8dc-a95785b01c31",
      "metadata": {
        "id": "903205e8-e367-421c-b8dc-a95785b01c31"
      },
      "source": [
        "#### Создаём список сигнатур вирусных файлов"
      ]
    },
    {
      "cell_type": "code",
      "execution_count": null,
      "id": "3b670530-cf4c-41a9-9473-816eab16390e",
      "metadata": {
        "id": "3b670530-cf4c-41a9-9473-816eab16390e"
      },
      "outputs": [],
      "source": [
        "virus_files = [os.path.join(virus_files_dir, f) for f in os.listdir(virus_files_dir)]\n",
        "virus_data = BinaryList([read_file(f) for f in virus_files]) # сохраняем в переменную virus_data сигнатуры вирусных файлов"
      ]
    },
    {
      "cell_type": "code",
      "execution_count": null,
      "id": "6749f90c-1f51-4e31-8469-4fad6dbd8201",
      "metadata": {
        "id": "6749f90c-1f51-4e31-8469-4fad6dbd8201"
      },
      "outputs": [],
      "source": [
        "virus_data # посмотрим на получившееся сигнатуры"
      ]
    },
    {
      "cell_type": "markdown",
      "id": "a98ebb38-3ce5-404b-852f-fd3bedea72f9",
      "metadata": {
        "id": "a98ebb38-3ce5-404b-852f-fd3bedea72f9"
      },
      "source": [
        "**Обратите внимание** на то как отличаются сигнатуры вирусных файлов и обычных файлов"
      ]
    },
    {
      "cell_type": "markdown",
      "id": "1b1b2116-25d8-4fac-a576-69251396a5ac",
      "metadata": {
        "id": "1b1b2116-25d8-4fac-a576-69251396a5ac"
      },
      "source": [
        "#### Создаём список сигнатур подозрительных файлов"
      ]
    },
    {
      "cell_type": "code",
      "execution_count": null,
      "id": "334975af-efb1-4871-90d6-6f4334f2f3d0",
      "metadata": {
        "id": "334975af-efb1-4871-90d6-6f4334f2f3d0"
      },
      "outputs": [],
      "source": [
        "suspect_files = [os.path.join(suspect_files_dir, f) for f in os.listdir(suspect_files_dir)]\n",
        "suspect_data = BinaryList([read_file(f) for f in suspect_files]) # сохраняем в переменную virus_data сигнатуры вирусных файлов"
      ]
    },
    {
      "cell_type": "code",
      "execution_count": null,
      "id": "0a85aaec-ae5e-4129-9381-ac5b8d9287a2",
      "metadata": {
        "id": "0a85aaec-ae5e-4129-9381-ac5b8d9287a2"
      },
      "outputs": [],
      "source": [
        "suspect_data # посмотрим на получившееся сигнатуры"
      ]
    },
    {
      "cell_type": "markdown",
      "id": "b0e3bfe1-f336-42f2-915c-49ffdc7eb70e",
      "metadata": {
        "id": "b0e3bfe1-f336-42f2-915c-49ffdc7eb70e"
      },
      "source": [
        "### Шаг 3: Анализируем данные графически."
      ]
    },
    {
      "cell_type": "markdown",
      "id": "018de131-82ab-477b-882f-6a32c95c7aea",
      "metadata": {
        "id": "018de131-82ab-477b-882f-6a32c95c7aea"
      },
      "source": [
        "#### Комбинируем сигнатуры нормальных, вирусных файлов и подозрительных"
      ]
    },
    {
      "cell_type": "code",
      "execution_count": null,
      "id": "7932bdd4-3bd1-4fd0-83f2-cc91eb3637d2",
      "metadata": {
        "id": "7932bdd4-3bd1-4fd0-83f2-cc91eb3637d2"
      },
      "outputs": [],
      "source": [
        "data = normal_data + virus_data + suspect_data\n",
        "labels =[0] * len(normal_data) + [1] * len(virus_data) + [2]*len(suspect_data) # создаем разметку, где 0 это не вирус, а 1 это вирус, 2 - подозрительный"
      ]
    },
    {
      "cell_type": "code",
      "execution_count": null,
      "id": "51ccd039-c24e-49c1-bcb9-65ca33554475",
      "metadata": {
        "id": "51ccd039-c24e-49c1-bcb9-65ca33554475"
      },
      "outputs": [],
      "source": [
        "BinaryList(data[:5]), BinaryList(data[-5:]) # Прверяем сформированный список: первые 5 и последниые 5 сигнатур"
      ]
    },
    {
      "cell_type": "code",
      "execution_count": null,
      "id": "72450e18-f2a8-45d9-835c-530e84a8ef5c",
      "metadata": {
        "id": "72450e18-f2a8-45d9-835c-530e84a8ef5c"
      },
      "outputs": [],
      "source": [
        "print(*labels) # псомотрим на разметку. Первыми идут нормальные файлы далее шесть считаем вирусами и 3 последних подозрительными"
      ]
    },
    {
      "cell_type": "code",
      "execution_count": null,
      "id": "b43cdda8-bd51-4513-9562-7aafb889520d",
      "metadata": {
        "id": "b43cdda8-bd51-4513-9562-7aafb889520d"
      },
      "outputs": [],
      "source": [
        "data_for_analysis(data) # посмотрим на преобразование сигнатуры в числа."
      ]
    },
    {
      "cell_type": "markdown",
      "id": "bd923167-eb2e-4783-a5b5-3a9d9baa7f97",
      "metadata": {
        "id": "bd923167-eb2e-4783-a5b5-3a9d9baa7f97"
      },
      "source": [
        "**Посмотрите на получившиеся числа**\n",
        "Возьмем для примера первый файл (afdsl.bak) bits: 1110010000001001 и первый файл вируса bits: 0000001111111111\n",
        "\n",
        "``[6, 1, 0]`` 6 - это то, сколько всего бит = 1; 1 - сколько подряд идущих бит = 1 с конца сигнатуры bits: **111**00**1**000000**1**00**1**\n",
        "\n",
        "``[10, 10, 6]``  6 - это то, сколько всего бит = 0 с начала сигнатуры bits: **000000**1111111111"
      ]
    },
    {
      "cell_type": "code",
      "execution_count": null,
      "id": "947079d9-86f0-4136-96a0-d93b11b9718c",
      "metadata": {
        "id": "947079d9-86f0-4136-96a0-d93b11b9718c"
      },
      "outputs": [],
      "source": [
        "features = np.array(data_for_analysis(data)) # сохраним в переменную features преобразованные сигнатуры"
      ]
    },
    {
      "cell_type": "code",
      "execution_count": null,
      "id": "b8e7c3de-bed9-4b0e-8fed-d5582c239e39",
      "metadata": {
        "id": "b8e7c3de-bed9-4b0e-8fed-d5582c239e39"
      },
      "outputs": [],
      "source": [
        "scatter_plot = MakeScatter(features, labels)\n",
        "scatter_plot.show()"
      ]
    },
    {
      "cell_type": "markdown",
      "id": "c1131c1f-137f-43c0-ad75-da3a2ae02b54",
      "metadata": {
        "id": "c1131c1f-137f-43c0-ad75-da3a2ae02b54"
      },
      "source": [
        "Обратите внимание на то, как расположились подозрительные файлы, нормальные файлы и вирусные файлы. **Тут явно есть некоторая закономерность**\n",
        "\n",
        "Теперь нам нужно обучить модель и посмотреть поймет ли она что такое подозрительные файлы. Обучать будем только на нормальных и вирусных файлах"
      ]
    },
    {
      "cell_type": "markdown",
      "id": "dd1872af-bc4d-47cb-bf65-97d70deb9222",
      "metadata": {
        "id": "dd1872af-bc4d-47cb-bf65-97d70deb9222"
      },
      "source": [
        "### Шаг 4: Тренируем модель"
      ]
    },
    {
      "cell_type": "markdown",
      "id": "203263ae-c25a-40a7-b0d9-add4ceffe29c",
      "metadata": {
        "id": "203263ae-c25a-40a7-b0d9-add4ceffe29c"
      },
      "source": [
        "Используем только нормальные файлы и вирусные"
      ]
    },
    {
      "cell_type": "code",
      "execution_count": null,
      "id": "9ff592c8-0758-47ee-aa82-a4756b1745f6",
      "metadata": {
        "id": "9ff592c8-0758-47ee-aa82-a4756b1745f6"
      },
      "outputs": [],
      "source": [
        "data = normal_data + virus_data\n",
        "labels =[0] * len(normal_data) + [1] * len(virus_data) # создаем разметку, где 0 это не вирус, а 1 это вирус"
      ]
    },
    {
      "cell_type": "markdown",
      "id": "0c7605f4-c655-4b04-b0b5-8c938ce9dd43",
      "metadata": {
        "id": "0c7605f4-c655-4b04-b0b5-8c938ce9dd43"
      },
      "source": [
        "#### Создадим модель и обучим её"
      ]
    },
    {
      "cell_type": "code",
      "execution_count": null,
      "id": "dfcbacd2-9c66-49a2-aeb4-9cc1a18e7f34",
      "metadata": {
        "id": "dfcbacd2-9c66-49a2-aeb4-9cc1a18e7f34"
      },
      "outputs": [],
      "source": [
        "X = np.array(data_for_analysis(data)) # анализируемые параметры\n",
        "y = np.array(labels) # метки параметров: вирус, не вирус\n",
        "# Разделение данных на обучающую и тестовую выборку\n",
        "X_train, X_test, y_train, y_test = train_test_split(X, y, test_size=0.2, random_state=42)\n",
        "\n",
        "# Создание и обучение модели\n",
        "model = LogisticRegression()\n",
        "model.fit(X_train, y_train)\n",
        "\n",
        "# Предсказание на тестовых данных\n",
        "y_pred = model.predict(X_test)\n",
        "\n",
        "# Оценка точности\n",
        "accuracy = accuracy_score(y_test, y_pred)\n",
        "print('Точность модели:', accuracy)"
      ]
    },
    {
      "cell_type": "markdown",
      "id": "64e27e35-c8ad-4b4b-95f6-f6e6b493780d",
      "metadata": {
        "id": "64e27e35-c8ad-4b4b-95f6-f6e6b493780d"
      },
      "source": [
        "### Шаг 5: Исследуем файлы приходящие в нашу сеть"
      ]
    },
    {
      "cell_type": "code",
      "execution_count": null,
      "id": "7e4bdb3b-b93b-4179-b3ee-a80592b4c88f",
      "metadata": {
        "id": "7e4bdb3b-b93b-4179-b3ee-a80592b4c88f"
      },
      "outputs": [],
      "source": [
        "В директории AdaptiveAntivirus, есть каталог internet_files в нем есть несколько файлов:"
      ]
    }
  ],
  "metadata": {
    "kernelspec": {
      "display_name": "Python 3",
      "name": "python3"
    },
    "language_info": {
      "name": "python"
    },
    "colab": {
      "provenance": [],
      "include_colab_link": true
    }
  },
  "nbformat": 4,
  "nbformat_minor": 5
}